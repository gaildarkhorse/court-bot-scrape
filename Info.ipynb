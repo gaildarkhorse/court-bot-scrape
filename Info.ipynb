{
 "cells": [
  {
   "cell_type": "markdown",
   "metadata": {},
   "source": [
    "# String Manupation \n",
    "\n",
    "## Way 1\n",
    "To extract the name from the given string using the keyword 'Name:' in Python, you can use string manipulation methods such as split() and slicing. Here's an example of how you can achieve this:"
   ]
  },
  {
   "cell_type": "markdown",
   "metadata": {},
   "source": []
  },
  {
   "cell_type": "code",
   "execution_count": null,
   "metadata": {},
   "outputs": [],
   "source": [
    "string = \"Name: Ronald Ww. Valinski, Sr. Age atdeath 88\"\n",
    "\n",
    "# Find the index position of the keyword 'Name:'\n",
    "start_index = string.index('Name:') + len('Name:')\n",
    "\n",
    "# Get the substring starting from the end of the keyword 'Name:'\n",
    "name_substring = string[start_index:]\n",
    "\n",
    "# Remove any leading or trailing whitespace\n",
    "name_substring = name_substring.strip()\n",
    "\n",
    "# Find the index position of the comma after the name\n",
    "end_index = name_substring.index(',')\n",
    "\n",
    "# Extract the name\n",
    "name = name_substring[:end_index]\n",
    "\n",
    "print(name)"
   ]
  },
  {
   "cell_type": "markdown",
   "metadata": {},
   "source": [
    "Output:"
   ]
  },
  {
   "cell_type": "code",
   "execution_count": null,
   "metadata": {},
   "outputs": [],
   "source": [
    "Ronald Ww. Valinski"
   ]
  },
  {
   "cell_type": "markdown",
   "metadata": {},
   "source": [
    "## Way 2\n",
    "To extract the name from the given string using the keyword 'Name:' in a more common case without using the index() method, you can use the split() method and string manipulation. Here's an alternative approach:"
   ]
  },
  {
   "cell_type": "code",
   "execution_count": null,
   "metadata": {},
   "outputs": [],
   "source": [
    "string = \"Name: Ronald Ww. Valinski, Sr. Age atdeath 88\"\n",
    "\n",
    "# Split the string into a list of words\n",
    "words = string.split()\n",
    "\n",
    "# Find the index position of the keyword 'Name:'\n",
    "name_index = words.index('Name:')\n",
    "\n",
    "# Extract the name by joining the words following the keyword 'Name:'\n",
    "name = ' '.join(words[name_index+1:])\n",
    "\n",
    "# Remove any trailing punctuation\n",
    "name = name.rstrip(\",.!?\")\n",
    "\n",
    "print(name)"
   ]
  },
  {
   "cell_type": "markdown",
   "metadata": {},
   "source": [
    "Output:"
   ]
  },
  {
   "cell_type": "code",
   "execution_count": null,
   "metadata": {},
   "outputs": [],
   "source": [
    "Ronald Ww. Valinski"
   ]
  },
  {
   "cell_type": "markdown",
   "metadata": {},
   "source": [
    "In this code, we first split the original string into a list of words using the split() method. Then, we find the index position of the keyword 'Name:' using the index() method on the words list. After that, we extract the name by joining the words following the keyword 'Name:' using the join() method. Finally, we remove any trailing punctuation from the extracted name using the rstrip() method.\n",
    "\n",
    "This approach allows you to extract the name without directly using the index of the keyword 'Name:', making it more flexible in case the string structure varies."
   ]
  },
  {
   "cell_type": "markdown",
   "metadata": {},
   "source": [
    "## Way 3\n",
    "Certainly! You can also use regular expressions to extract the name from the given string using the keyword 'Name:'. Here's an example using the re module in Python:"
   ]
  },
  {
   "cell_type": "code",
   "execution_count": null,
   "metadata": {},
   "outputs": [],
   "source": [
    "import re\n",
    "\n",
    "string = \"Name: Ronald Ww. Valinski, Sr. Age atdeath 88\"\n",
    "\n",
    "# Define the regular expression pattern\n",
    "pattern = r\"Name:\\s*([\\w\\s.]+),\"\n",
    "\n",
    "# Search for the pattern in the string\n",
    "match = re.search(pattern, string)\n",
    "\n",
    "if match:\n",
    "    # Extract the matched name group\n",
    "    name = match.group(1)\n",
    "    print(name)\n",
    "else:\n",
    "    print(\"Name not found.\")"
   ]
  },
  {
   "cell_type": "markdown",
   "metadata": {},
   "source": [
    "Output:"
   ]
  },
  {
   "cell_type": "code",
   "execution_count": null,
   "metadata": {},
   "outputs": [],
   "source": [
    "Ronald Ww. Valinski"
   ]
  },
  {
   "cell_type": "markdown",
   "metadata": {},
   "source": [
    "In this code, we define a regular expression pattern r\"Name:\\s*([\\w\\s.]+),\" to match the keyword 'Name:' followed by optional whitespace characters, followed by the name containing word characters, spaces, and periods. The name is captured in a group using parentheses ([\\w\\s.]+). We use the re.search() function to search for the pattern in the string. If a match is found, we extract the matched name group using match.group(1).\n",
    "\n",
    "Using regular expressions provides more flexibility in handling variations in the string format and allows for more complex pattern matching if needed."
   ]
  },
  {
   "cell_type": "markdown",
   "metadata": {},
   "source": [
    "Let's break down the regular expression pattern r\"Name:\\s*([\\w\\s.]+),\" and explain how it works:\n",
    "\n",
    "* r indicates a raw string, which is commonly used with regular expressions to avoid the need for excessive escaping of special characters.\n",
    "\n",
    "* Name: matches the literal characters \"Name:\" in the string.\n",
    "\n",
    "* \\s* matches zero or more whitespace characters. The \\s represents any whitespace character (spaces, tabs, newlines), and the * quantifier means \"zero or more occurrences\".\n",
    "\n",
    "* ([\\w\\s.]+) is a capturing group that matches one or more occurrences of word characters (\\w), whitespace characters (\\s), and periods (.). The + quantifier means \"one or more occurrences\". This group captures the name that follows the keyword \"Name:\" in the string.\n",
    "\n",
    "* , matches the literal comma character that follows the captured name.\n",
    "\n",
    "When we use re.search(pattern, string), the re.search() function searches for the first occurrence of the pattern in the string. If a match is found, the match object contains the captured groups. In this case, we access the captured name group using match.group(1), where 1 refers to the first captured group.\n",
    "\n",
    "In summary, the regular expression pattern searches for the keyword \"Name:\" followed by optional whitespace characters, captures the name that follows (containing word characters, whitespace, and periods), and expects a comma to follow the name."
   ]
  },
  {
   "cell_type": "markdown",
   "metadata": {},
   "source": [
    "-----\n",
    "## To check if the given string ends with 'Sr.' using regular expressions in Python, you can utilize the re module. \n",
    "Here's an example:\n",
    "\n"
   ]
  },
  {
   "cell_type": "code",
   "execution_count": null,
   "metadata": {},
   "outputs": [],
   "source": [
    "import re\n",
    "\n",
    "string = \"Name: Ronald Ww. Valinski, Sr. Age atdeath 88\"\n",
    "\n",
    "# Define the regular expression pattern\n",
    "pattern = r\"Sr\\.$\"\n",
    "\n",
    "# Check if the pattern matches the end of the string\n",
    "match = re.search(pattern, string)\n",
    "\n",
    "if match:\n",
    "    print(\"String ends with 'Sr.'\")\n",
    "else:\n",
    "    print(\"String does not end with 'Sr.'\")"
   ]
  },
  {
   "cell_type": "markdown",
   "metadata": {},
   "source": [
    "In this code, we define the regular expression pattern r\"Sr\\.$\". Here's a breakdown of the pattern:\n",
    "\n",
    "* Sr matches the literal characters 'Sr'.\n",
    "* \\. matches the literal period character '.'. Since '.' is a special character in regular expressions, we need to escape it with a backslash ''.\n",
    "* $ anchors the pattern to the end of the string.\n",
    "\n",
    "We use re.search(pattern, string) to search for a match of the pattern at the end of the string. If a match is found, it means the string ends with 'Sr.' and we print the corresponding message. Otherwise, we print that the string does not end with 'Sr.'.\n",
    "\n",
    "Please note that the pattern is case-sensitive, so it will only match if 'Sr.' is exactly at the end of the string with no additional characters following it. If you want a case-insensitive match or to allow for additional characters after 'Sr.', you can modify the pattern accordingly."
   ]
  }
 ],
 "metadata": {
  "kernelspec": {
   "display_name": "Python 3",
   "language": "python",
   "name": "python3"
  },
  "language_info": {
   "name": "python",
   "version": "3.12.0"
  }
 },
 "nbformat": 4,
 "nbformat_minor": 2
}
