{
 "cells": [
  {
   "cell_type": "markdown",
   "metadata": {},
   "source": [
    "# String Manupation \n",
    "\n",
    "## Way 1\n",
    "To extract the name from the given string using the keyword 'Name:' in Python, you can use string manipulation methods such as split() and slicing. Here's an example of how you can achieve this:"
   ]
  },
  {
   "cell_type": "markdown",
   "metadata": {},
   "source": []
  },
  {
   "cell_type": "code",
   "execution_count": null,
   "metadata": {},
   "outputs": [],
   "source": [
    "string = \"Name: Ronald Ww. Valinski, Sr. Age atdeath 88\"\n",
    "\n",
    "# Find the index position of the keyword 'Name:'\n",
    "start_index = string.index('Name:') + len('Name:')\n",
    "\n",
    "# Get the substring starting from the end of the keyword 'Name:'\n",
    "name_substring = string[start_index:]\n",
    "\n",
    "# Remove any leading or trailing whitespace\n",
    "name_substring = name_substring.strip()\n",
    "\n",
    "# Find the index position of the comma after the name\n",
    "end_index = name_substring.index(',')\n",
    "\n",
    "# Extract the name\n",
    "name = name_substring[:end_index]\n",
    "\n",
    "print(name)"
   ]
  },
  {
   "cell_type": "markdown",
   "metadata": {},
   "source": [
    "Output:"
   ]
  },
  {
   "cell_type": "code",
   "execution_count": null,
   "metadata": {},
   "outputs": [],
   "source": [
    "Ronald Ww. Valinski"
   ]
  },
  {
   "cell_type": "markdown",
   "metadata": {},
   "source": [
    "## Way 2\n",
    "To extract the name from the given string using the keyword 'Name:' in a more common case without using the index() method, you can use the split() method and string manipulation. Here's an alternative approach:"
   ]
  },
  {
   "cell_type": "code",
   "execution_count": null,
   "metadata": {},
   "outputs": [],
   "source": [
    "string = \"Name: Ronald Ww. Valinski, Sr. Age atdeath 88\"\n",
    "\n",
    "# Split the string into a list of words\n",
    "words = string.split()\n",
    "\n",
    "# Find the index position of the keyword 'Name:'\n",
    "name_index = words.index('Name:')\n",
    "\n",
    "# Extract the name by joining the words following the keyword 'Name:'\n",
    "name = ' '.join(words[name_index+1:])\n",
    "\n",
    "# Remove any trailing punctuation\n",
    "name = name.rstrip(\",.!?\")\n",
    "\n",
    "print(name)"
   ]
  },
  {
   "cell_type": "markdown",
   "metadata": {},
   "source": [
    "Output:"
   ]
  },
  {
   "cell_type": "code",
   "execution_count": null,
   "metadata": {},
   "outputs": [],
   "source": [
    "Ronald Ww. Valinski"
   ]
  },
  {
   "cell_type": "markdown",
   "metadata": {},
   "source": [
    "In this code, we first split the original string into a list of words using the split() method. Then, we find the index position of the keyword 'Name:' using the index() method on the words list. After that, we extract the name by joining the words following the keyword 'Name:' using the join() method. Finally, we remove any trailing punctuation from the extracted name using the rstrip() method.\n",
    "\n",
    "This approach allows you to extract the name without directly using the index of the keyword 'Name:', making it more flexible in case the string structure varies."
   ]
  },
  {
   "cell_type": "markdown",
   "metadata": {},
   "source": [
    "## Way 3\n",
    "Certainly! You can also use regular expressions to extract the name from the given string using the keyword 'Name:'. Here's an example using the re module in Python:"
   ]
  },
  {
   "cell_type": "code",
   "execution_count": null,
   "metadata": {},
   "outputs": [],
   "source": [
    "import re\n",
    "\n",
    "string = \"Name: Ronald Ww. Valinski, Sr. Age atdeath 88\"\n",
    "\n",
    "# Define the regular expression pattern\n",
    "pattern = r\"Name:\\s*([\\w\\s.]+),\"\n",
    "\n",
    "# Search for the pattern in the string\n",
    "match = re.search(pattern, string)\n",
    "\n",
    "if match:\n",
    "    # Extract the matched name group\n",
    "    name = match.group(1)\n",
    "    print(name)\n",
    "else:\n",
    "    print(\"Name not found.\")"
   ]
  },
  {
   "cell_type": "markdown",
   "metadata": {},
   "source": [
    "Output:"
   ]
  },
  {
   "cell_type": "code",
   "execution_count": null,
   "metadata": {},
   "outputs": [],
   "source": [
    "Ronald Ww. Valinski"
   ]
  },
  {
   "cell_type": "markdown",
   "metadata": {},
   "source": [
    "In this code, we define a regular expression pattern r\"Name:\\s*([\\w\\s.]+),\" to match the keyword 'Name:' followed by optional whitespace characters, followed by the name containing word characters, spaces, and periods. The name is captured in a group using parentheses ([\\w\\s.]+). We use the re.search() function to search for the pattern in the string. If a match is found, we extract the matched name group using match.group(1).\n",
    "\n",
    "Using regular expressions provides more flexibility in handling variations in the string format and allows for more complex pattern matching if needed."
   ]
  },
  {
   "cell_type": "markdown",
   "metadata": {},
   "source": [
    "Let's break down the regular expression pattern r\"Name:\\s*([\\w\\s.]+),\" and explain how it works:\n",
    "\n",
    "* r indicates a raw string, which is commonly used with regular expressions to avoid the need for excessive escaping of special characters.\n",
    "\n",
    "* Name: matches the literal characters \"Name:\" in the string.\n",
    "\n",
    "* \\s* matches zero or more whitespace characters. The \\s represents any whitespace character (spaces, tabs, newlines), and the * quantifier means \"zero or more occurrences\".\n",
    "\n",
    "* ([\\w\\s.]+) is a capturing group that matches one or more occurrences of word characters (\\w), whitespace characters (\\s), and periods (.). The + quantifier means \"one or more occurrences\". This group captures the name that follows the keyword \"Name:\" in the string.\n",
    "\n",
    "* , matches the literal comma character that follows the captured name.\n",
    "\n",
    "When we use re.search(pattern, string), the re.search() function searches for the first occurrence of the pattern in the string. If a match is found, the match object contains the captured groups. In this case, we access the captured name group using match.group(1), where 1 refers to the first captured group.\n",
    "\n",
    "In summary, the regular expression pattern searches for the keyword \"Name:\" followed by optional whitespace characters, captures the name that follows (containing word characters, whitespace, and periods), and expects a comma to follow the name."
   ]
  },
  {
   "cell_type": "markdown",
   "metadata": {},
   "source": [
    "-----\n",
    "## To check if the given string ends with 'Sr.' using regular expressions in Python, you can utilize the re module. \n",
    "Here's an example:\n",
    "\n"
   ]
  },
  {
   "cell_type": "code",
   "execution_count": null,
   "metadata": {},
   "outputs": [],
   "source": [
    "import re\n",
    "\n",
    "string = \"Name: Ronald Ww. Valinski, Sr. Age atdeath 88\"\n",
    "\n",
    "# Define the regular expression pattern\n",
    "pattern = r\"Sr\\.$\"\n",
    "\n",
    "# Check if the pattern matches the end of the string\n",
    "match = re.search(pattern, string)\n",
    "\n",
    "if match:\n",
    "    print(\"String ends with 'Sr.'\")\n",
    "else:\n",
    "    print(\"String does not end with 'Sr.'\")"
   ]
  },
  {
   "cell_type": "markdown",
   "metadata": {},
   "source": [
    "In this code, we define the regular expression pattern r\"Sr\\.$\". Here's a breakdown of the pattern:\n",
    "\n",
    "* Sr matches the literal characters 'Sr'.\n",
    "* \\. matches the literal period character '.'. Since '.' is a special character in regular expressions, we need to escape it with a backslash ''.\n",
    "* $ anchors the pattern to the end of the string.\n",
    "\n",
    "We use re.search(pattern, string) to search for a match of the pattern at the end of the string. If a match is found, it means the string ends with 'Sr.' and we print the corresponding message. Otherwise, we print that the string does not end with 'Sr.'.\n",
    "\n",
    "Please note that the pattern is case-sensitive, so it will only match if 'Sr.' is exactly at the end of the string with no additional characters following it. If you want a case-insensitive match or to allow for additional characters after 'Sr.', you can modify the pattern accordingly."
   ]
  },
  {
   "cell_type": "markdown",
   "metadata": {},
   "source": [
    "If you want to check if the given string ends with either 'Sr.' or a digit using regular expressions in Python, you can modify the regular expression pattern. Here's an example:"
   ]
  },
  {
   "cell_type": "code",
   "execution_count": null,
   "metadata": {},
   "outputs": [],
   "source": [
    "import re\n",
    "\n",
    "string = \"Name: Ronald Ww. Valinski, Sr. Age atdeath 88\"\n",
    "\n",
    "# Define the regular expression pattern\n",
    "pattern = r\"(Sr\\.|\\d)$\"\n",
    "\n",
    "# Check if the pattern matches the end of the string\n",
    "match = re.search(pattern, string)\n",
    "\n",
    "if match:\n",
    "    print(\"String ends with 'Sr.' or a digit\")\n",
    "else:\n",
    "    print(\"String does not end with 'Sr.' or a digit\")"
   ]
  },
  {
   "cell_type": "markdown",
   "metadata": {},
   "source": [
    "In this code, we modify the regular expression pattern to (Sr\\.|\\d)$. Here's a breakdown of the pattern:\n",
    "\n",
    "* (Sr\\.|\\d) uses a group ( ... ) with the | symbol as an alternation. It matches either 'Sr.' or \\d.\n",
    "\n",
    "* Sr\\. matches the literal characters 'Sr.'.\n",
    "* \\d matches any digit character.\n",
    "* $ anchors the pattern to the end of the string.\n",
    "\n",
    "We use re.search(pattern, string) to search for a match of the pattern at the end of the string. If a match is found, it means the string ends with either 'Sr.' or a digit, and we print the corresponding message. Otherwise, we print that the string does not end with 'Sr.' or a digit.\n",
    "\n",
    "This pattern allows for a case-sensitive match. If you want a case-insensitive match, you can modify the pattern by adding the re.IGNORECASE flag as the second argument in re.search()."
   ]
  },
  {
   "cell_type": "markdown",
   "metadata": {},
   "source": [
    "`If you want to extract the actual value of the digit at the end of the string, you can modify the regular expression pattern to capture the digit using parentheses. Here's an example:`"
   ]
  },
  {
   "cell_type": "code",
   "execution_count": null,
   "metadata": {},
   "outputs": [],
   "source": [
    "import re\n",
    "\n",
    "string = \"Name: Ronald Ww. Valinski, Sr. Age atdeath 88\"\n",
    "\n",
    "# Define the regular expression pattern\n",
    "pattern = r\"(Sr\\.|\\d)$\"\n",
    "\n",
    "# Check if the pattern matches the end of the string\n",
    "match = re.search(pattern, string)\n",
    "\n",
    "if match:\n",
    "    if match.group(1) == 'Sr.':\n",
    "        print(\"String ends with 'Sr.'\")\n",
    "    else:\n",
    "        digit = int(match.group(1))\n",
    "        print(f\"String ends with digit: {digit}\")\n",
    "else:\n",
    "    print(\"String does not end with 'Sr.' or a digit\")"
   ]
  },
  {
   "cell_type": "markdown",
   "metadata": {},
   "source": [
    "In this code, we modify the regular expression pattern to (Sr\\.|\\d)$. The pattern captures either 'Sr.' or a digit at the end of the string. We then use re.search(pattern, string) to search for a match.\n",
    "\n",
    "If a match is found, we check if the captured group match.group(1) equals 'Sr.' to identify if the string ends with 'Sr.'. If it does, we print the corresponding message.\n",
    "\n",
    "If the captured group is a digit, we convert it to an integer using int(match.group(1)) and print the extracted digit value.\n",
    "\n",
    "If no match is found, we print that the string does not end with 'Sr.' or a digit."
   ]
  },
  {
   "cell_type": "markdown",
   "metadata": {},
   "source": [
    "### To extract 'Worcester' from 'Division' using Python regular expressions in `'Estate of: \\\\ ‘ Worcester Division'`, you can define a pattern that matches 'Division' and captures the preceding word. \n",
    "Here's an example:"
   ]
  },
  {
   "cell_type": "code",
   "execution_count": null,
   "metadata": {},
   "outputs": [],
   "source": [
    "import re\n",
    "\n",
    "string = \"Estate of: \\\\ ‘ Worcester Division'\"\n",
    "\n",
    "# Define the regular expression pattern\n",
    "pattern = r\"(\\w+)\\s+Division\"\n",
    "\n",
    "# Search for the pattern in the string\n",
    "match = re.search(pattern, string)\n",
    "\n",
    "if match:\n",
    "    preceding_word = match.group(1)\n",
    "    print(preceding_word)\n",
    "else:\n",
    "    print(\"Pattern not found.\")"
   ]
  },
  {
   "cell_type": "markdown",
   "metadata": {},
   "source": [
    "In this code, we define the regular expression pattern r\"(\\w+)\\s+Division\". Here's a breakdown of the pattern:\n",
    "\n",
    "(\\w+) captures one or more word characters (\\w+). The parentheses define a capturing group to extract the preceding word.\n",
    "\n",
    "\\s+ matches one or more whitespace characters.\n",
    "\n",
    "Division matches the literal string 'Division'.\n",
    "\n",
    "We use re.search(pattern, string) to search for the pattern in the given string. If a match is found, we extract the captured group using match.group(1), which corresponds to the preceding word before 'Division'.\n",
    "\n",
    "If no match is found, we print that the pattern is not found.\n",
    "\n",
    "`Note: This approach assumes that the word preceding 'Division' consists only of word characters (letters, digits, and underscores). If the preceding word can include other characters, you may need to adjust the regular expression pattern accordingly.`"
   ]
  },
  {
   "cell_type": "markdown",
   "metadata": {},
   "source": [
    "## To determine if a string starts with a digit, ends with a digit, or contains digits within its inner part, you can use Python regular expressions. Here are examples for each case:"
   ]
  },
  {
   "cell_type": "markdown",
   "metadata": {},
   "source": [
    "* To check if a string starts with a digit:"
   ]
  },
  {
   "cell_type": "code",
   "execution_count": null,
   "metadata": {},
   "outputs": [],
   "source": [
    "import re\n",
    "\n",
    "string = \"123abc\"\n",
    "\n",
    "# Define the regular expression pattern\n",
    "pattern = r\"^\\d\"\n",
    "\n",
    "# Check if the pattern matches the start of the string\n",
    "match = re.search(pattern, string)\n",
    "\n",
    "if match:\n",
    "    print(\"String starts with a digit\")\n",
    "else:\n",
    "    print(\"String does not start with a digit\")"
   ]
  },
  {
   "cell_type": "markdown",
   "metadata": {},
   "source": [
    "* To check if a string ends with a digit:"
   ]
  },
  {
   "cell_type": "code",
   "execution_count": null,
   "metadata": {},
   "outputs": [],
   "source": [
    "import re\n",
    "\n",
    "string = \"abc456\"\n",
    "\n",
    "# Define the regular expression pattern\n",
    "pattern = r\"\\d$\"\n",
    "\n",
    "# Check if the pattern matches the end of the string\n",
    "match = re.search(pattern, string)\n",
    "\n",
    "if match:\n",
    "    print(\"String ends with a digit\")\n",
    "else:\n",
    "    print(\"String does not end with a digit\")"
   ]
  },
  {
   "cell_type": "markdown",
   "metadata": {},
   "source": [
    "* To check if a string contains digits within its inner part:"
   ]
  },
  {
   "cell_type": "code",
   "execution_count": null,
   "metadata": {},
   "outputs": [],
   "source": [
    "import re\n",
    "\n",
    "string = \"abc123def\"\n",
    "\n",
    "# Define the regular expression pattern\n",
    "pattern = r\"\\d\"\n",
    "\n",
    "# Check if the pattern matches within the string\n",
    "match = re.search(pattern, string)\n",
    "\n",
    "if match:\n",
    "    print(\"String contains digits\")\n",
    "else:\n",
    "    print(\"String does not contain digits\")"
   ]
  },
  {
   "cell_type": "markdown",
   "metadata": {},
   "source": [
    "In each case, we define a regular expression pattern and use re.search(pattern, string) to search for a match within the string. If a match is found, it means the respective condition is satisfied, and we print the corresponding message. Otherwise, we print that the condition is not met.\n",
    "\n",
    "These examples demonstrate how to check if a string starts with a digit, ends with a digit, or contains digits within its inner part using regular expressions in Python."
   ]
  },
  {
   "cell_type": "markdown",
   "metadata": {},
   "source": [
    "`If you want to extract the actual value of the digits from a string, you can modify the regular expression pattern to capture the digits. Here's an example:`\n"
   ]
  },
  {
   "cell_type": "code",
   "execution_count": null,
   "metadata": {},
   "outputs": [],
   "source": [
    "import re\n",
    "\n",
    "string = \"abc123def\"\n",
    "\n",
    "# Define the regular expression pattern\n",
    "pattern = r\"\\d+\"\n",
    "\n",
    "# Find all matches of the pattern in the string\n",
    "matches = re.findall(pattern, string)\n",
    "\n",
    "if matches:\n",
    "    digits = [int(match) for match in matches]\n",
    "    print(\"Digits found:\", digits)\n",
    "else:\n",
    "    print(\"No digits found.\")"
   ]
  },
  {
   "cell_type": "markdown",
   "metadata": {},
   "source": [
    "In this code, we modify the regular expression pattern to r\"\\d+\". The pattern \\d+ matches one or more digits.\n",
    "\n",
    "We use re.findall(pattern, string) to find all matches of the pattern within the string. The findall() function returns a list of all matches found.\n",
    "\n",
    "If matches are found, we convert each matched string to an integer using a list comprehension [int(match) for match in matches]. This gives us a list of the actual numeric values of the digits.\n",
    "\n",
    "Finally, we print the extracted digits. If no matches are found, we print that no digits were found."
   ]
  },
  {
   "cell_type": "markdown",
   "metadata": {},
   "source": [
    "-----\n",
    "If you want to extract the digits from a string that contains non-digit characters in between, you can modify the regular expression pattern to capture the digits while ignoring the non-digit characters. Here's an example:"
   ]
  },
  {
   "cell_type": "code",
   "execution_count": null,
   "metadata": {},
   "outputs": [],
   "source": [
    "import re\n",
    "\n",
    "string = \"abc123def456ghi\"\n",
    "\n",
    "# Define the regular expression pattern\n",
    "pattern = r\"\\d+\"\n",
    "\n",
    "# Find all matches of the pattern in the string\n",
    "matches = re.findall(pattern, string)\n",
    "\n",
    "if matches:\n",
    "    digits = [int(match) for match in matches]\n",
    "    print(\"Digits found:\", digits)\n",
    "else:\n",
    "    print(\"No digits found.\")"
   ]
  },
  {
   "cell_type": "markdown",
   "metadata": {},
   "source": [
    "In this code, we use the regular expression pattern \\d+ to match one or more digits.\n",
    "\n",
    "We use re.findall(pattern, string) to find all matches of the pattern within the string. The findall() function returns a list of all matches found.\n",
    "\n",
    "If matches are found, we convert each matched string to an integer using a list comprehension [int(match) for match in matches]. This gives us a list of the actual numeric values of the digits.\n",
    "\n",
    "Finally, we print the extracted digits. If no matches are found, we print that no digits were found.\n",
    "\n",
    "This approach will extract all contiguous sequences of digits from the string, regardless of the non-digit characters in between.\n",
    "\n",
    "-----"
   ]
  },
  {
   "cell_type": "markdown",
   "metadata": {},
   "source": [
    "\n",
    "## Phone Number Type\n",
    "\n",
    "To convert the extracted digits into a formatted telephone number, you can use the phonenumbers library in Python. This library provides functions to parse, format, and validate phone numbers. Here's an example of how you can accomplish this:\n",
    "\n",
    "First, make sure you have the phonenumbers library installed. You can install it using pip:"
   ]
  },
  {
   "cell_type": "code",
   "execution_count": null,
   "metadata": {
    "vscode": {
     "languageId": "powershell"
    }
   },
   "outputs": [],
   "source": [
    "pip install phonenumbers"
   ]
  },
  {
   "cell_type": "code",
   "execution_count": null,
   "metadata": {},
   "outputs": [],
   "source": [
    "import re\n",
    "import phonenumbers\n",
    "\n",
    "string = \"Primary Phone #: __(978) 413-4508\"\n",
    "\n",
    "# Define the regular expression pattern\n",
    "pattern = r\"\\d\"\n",
    "\n",
    "# Find all matches of the pattern in the string\n",
    "matches = re.findall(pattern, string)\n",
    "\n",
    "# Join the matches into a single string\n",
    "digits = ''.join(matches)\n",
    "\n",
    "# Parse the phone number using phonenumbers library\n",
    "parsed_number = phonenumbers.parse(digits, \"US\")\n",
    "\n",
    "# Format the parsed number as a telephone number\n",
    "formatted_number = phonenumbers.format_number(parsed_number, phonenumbers.PhoneNumberFormat.NATIONAL)\n",
    "\n",
    "print(\"Formatted telephone number:\", formatted_number)"
   ]
  },
  {
   "cell_type": "markdown",
   "metadata": {},
   "source": [
    "In this code, we first extract the digits from the string using the regular expression pattern, as shown earlier.\n",
    "\n",
    "Next, we use the phonenumbers.parse() function to parse the phone number. We pass the extracted digits and the country code (\"US\" in this example) to indicate the country of the phone number.\n",
    "\n",
    "Then, we use the phonenumbers.format_number() function to format the parsed number as a telephone number. We specify the desired format using the PhoneNumberFormat.NATIONAL option.\n",
    "\n",
    "Finally, we print the formatted telephone number.\n",
    "\n",
    "Note that the phonenumbers library provides additional functionality for handling different phone number formats, international numbers, and more. You can explore the library documentation for more advanced usage."
   ]
  },
  {
   "cell_type": "markdown",
   "metadata": {},
   "source": [
    "-----\n",
    "\n",
    "### String to date type data\n",
    "To convert a string into a date type in Python, you can use the datetime module, which provides various functions and classes for working with dates and times. Here's an example of how you can accomplish this:\n"
   ]
  },
  {
   "cell_type": "code",
   "execution_count": null,
   "metadata": {},
   "outputs": [],
   "source": [
    "from datetime import datetime\n",
    "\n",
    "string = \"2023-11-05\"\n",
    "\n",
    "# Convert the string to a date object\n",
    "date_object = datetime.strptime(string, \"%Y-%m-%d\").date()\n",
    "\n",
    "print(\"Date object:\", date_object)"
   ]
  },
  {
   "cell_type": "markdown",
   "metadata": {},
   "source": [
    "In this code, we use the datetime.strptime() function to parse the string and convert it to a date object. The function takes two arguments: the string to be parsed and a format string that specifies the expected format of the string.\n",
    "\n",
    "In the example, the format string \"%Y-%m-%d\" indicates that the string should be in the format \"YYYY-MM-DD\". Here, %Y represents the year with century as a four-digit number, %m represents the month as a zero-padded two-digit number, and %d represents the day as a zero-padded two-digit number.\n",
    "\n",
    "The strptime() function returns a datetime object, which we then extract only the date part using the .date() method to get a date object.\n",
    "\n",
    "Finally, we print the date_object, which represents the converted date.\n",
    "\n",
    "By using the datetime module's strptime() function and specifying the appropriate format string, you can convert a string into a date type in Python."
   ]
  },
  {
   "cell_type": "markdown",
   "metadata": {},
   "source": [
    "-----\n",
    "\n",
    "### Get email from normal string\n",
    "\n",
    "To extract an email address from a normal string in Python, you can use regular expressions. Here's an example of how you can accomplish this:"
   ]
  },
  {
   "cell_type": "code",
   "execution_count": null,
   "metadata": {},
   "outputs": [],
   "source": [
    "import re\n",
    "\n",
    "string = \"Please contact me at john.doe@example.com for further information.\"\n",
    "\n",
    "# Define the regular expression pattern for an email address\n",
    "pattern = r\"\\b[A-Za-z0-9._%+-]+@[A-Za-z0-9.-]+\\.[A-Za-z]{2,}\\b\"\n",
    "\n",
    "# Find the first match of the pattern in the string\n",
    "match = re.search(pattern, string)\n",
    "\n",
    "if match:\n",
    "    email = match.group()\n",
    "    print(\"Email found:\", email)\n",
    "else:\n",
    "    print(\"No email found.\")"
   ]
  },
  {
   "cell_type": "markdown",
   "metadata": {},
   "source": [
    "In this code, we define the regular expression pattern `r\"\\b[A-Za-z0-9._%+-]+@[A-Za-z0-9.-]+\\.[A-Za-z]{2,}\\b\"` to match an email address.\n",
    "\n",
    "Here's a breakdown of the pattern:\n",
    "\n",
    "* `\\b` matches a word boundary to ensure that the email address is not part of a larger word.\n",
    "* `[A-Za-z0-9._%+-]+` matches one or more alphanumeric characters, dots, underscores, percent signs, plus signs, or hyphens, which are valid characters in the local part of an email address.\n",
    "* `@` matches the at symbol.\n",
    "* `[A-Za-z0-9.-]+` matches one or more alphanumeric characters, dots, or hyphens, which are valid characters in the domain part of an email address.\n",
    "* `\\.` matches a literal dot symbol.\n",
    "* `[A-Za-z]{2,}` matches two or more alphabetic characters for the top-level domain (e.g., \"com\", \"org\", \"edu\").\n",
    "We use re.search(pattern, string) to find the first match of the pattern within the string. The search() function returns a match object.\n",
    "\n",
    "If a match is found, we extract the matched email address using match.group().\n",
    "\n",
    "Finally, we print the extracted email address. If no match is found, we print that no email was found.\n",
    "\n",
    "Please note that this regular expression pattern may not cover all possible variations of email addresses. It provides a basic pattern that matches many common email address formats."
   ]
  },
  {
   "cell_type": "markdown",
   "metadata": {},
   "source": [
    "### Get substring from special string\n",
    "\n",
    "To get a substring from a string using index positions in Python, you can use slicing. Slicing allows you to extract a portion of a string based on the starting and ending index positions. Here's an example:"
   ]
  },
  {
   "cell_type": "code",
   "execution_count": null,
   "metadata": {},
   "outputs": [],
   "source": [
    "string = \"Hello, World!\"\n",
    "\n",
    "# Get a substring using index positions\n",
    "substring = string[7:12]\n",
    "\n",
    "print(\"Substring:\", substring)"
   ]
  },
  {
   "cell_type": "markdown",
   "metadata": {},
   "source": [
    "In this code, we have a string \"Hello, World!\". To extract a substring, we specify the starting and ending index positions within square brackets ([]) after the string variable. The starting index is inclusive, while the ending index is exclusive.\n",
    "\n",
    "In the example, string[7:12] retrieves the characters from index position 7 up to, but not including, index position 12. Therefore, it extracts the substring \"World\".\n",
    "\n",
    "You can also omit one or both indices to slice from the beginning or end of the string. For example:"
   ]
  },
  {
   "cell_type": "code",
   "execution_count": null,
   "metadata": {},
   "outputs": [],
   "source": [
    "string = \"Hello, World!\"\n",
    "\n",
    "# Slice from the beginning of the string\n",
    "substring1 = string[:5]  # Equivalent to string[0:5]\n",
    "\n",
    "# Slice from a specific index to the end of the string\n",
    "substring2 = string[7:]  # Equivalent to string[7:len(string)]\n",
    "\n",
    "print(\"Substring 1:\", substring1)\n",
    "print(\"Substring 2:\", substring2)"
   ]
  },
  {
   "cell_type": "markdown",
   "metadata": {},
   "source": [
    "In this case, string[:5] retrieves the characters from the beginning of the string up to, but not including, index position 5, resulting in the substring \"Hello\". Similarly, string[7:] retrieves the characters from index position 7 to the end of the string, resulting in the substring \"World!\".\n",
    "\n",
    "By specifying appropriate index positions or using the default behavior of slicing, you can extract substrings from a string based on index positions in Python."
   ]
  },
  {
   "cell_type": "markdown",
   "metadata": {},
   "source": [
    "---------------\n",
    "\n",
    "### To extract the street information from the string\n",
    "\n",
    "To extract the street information from the given string using Python, you can use regular expressions to match the street address pattern. Here's an example:"
   ]
  },
  {
   "cell_type": "code",
   "execution_count": null,
   "metadata": {},
   "outputs": [],
   "source": [
    "import re\n",
    "\n",
    "string = \"Domicile at death: 125 Connors Street 101 Gardner MA 01440\"\n",
    "\n",
    "# Define the regular expression pattern for a street address\n",
    "pattern = r\"\\b\\d+\\s+[\\w\\s]+\\b\"\n",
    "\n",
    "# Find the first match of the pattern in the string\n",
    "match = re.search(pattern, string)\n",
    "\n",
    "if match:\n",
    "    street_info = match.group()\n",
    "    print(\"Street information found:\", street_info)\n",
    "else:\n",
    "    print(\"No street information found.\")"
   ]
  },
  {
   "cell_type": "markdown",
   "metadata": {},
   "source": [
    "Output:"
   ]
  },
  {
   "cell_type": "code",
   "execution_count": null,
   "metadata": {
    "vscode": {
     "languageId": "powershell"
    }
   },
   "outputs": [],
   "source": [
    "Street information found: 125 Connors Street"
   ]
  },
  {
   "cell_type": "markdown",
   "metadata": {},
   "source": [
    "In this code, we define the regular expression pattern `r\"\\b\\d+\\s+[\\w\\s]+\\b\"` to match a street address.\n",
    "\n",
    "Here's a breakdown of the pattern:\n",
    "\n",
    "* `\\b` matches a word boundary to ensure that the street address is not part of a larger word.\n",
    "\n",
    "* `\\d+` matches one or more digits, representing the house number.\n",
    "\n",
    "* `\\s+` matches one or more whitespace characters.\n",
    "\n",
    "* `[\\w\\s]+` matches one or more word characters or whitespace characters, representing the street name.\n",
    "\n",
    "* `\\b` matches another word boundary.\n",
    "\n",
    "We use re.search(pattern, string) to find the first match of the pattern within the string. The search() function returns a match object.\n",
    "\n",
    "If a match is found, we extract the matched street information using match.group().\n",
    "\n",
    "Finally, we print the extracted street information. If no match is found, we print that no street information was found.\n",
    "\n",
    "Please note that the regular expression pattern provided here is a basic pattern that matches many common street address formats. It may not cover all possible variations of street addresses. You may need to modify the pattern based on your specific requirements."
   ]
  },
  {
   "cell_type": "markdown",
   "metadata": {},
   "source": [
    "------\n",
    "\n",
    "To extract the state abbreviation from the given string using regular expressions. Here's an example of how you can modify the code to extract the state abbreviation:"
   ]
  },
  {
   "cell_type": "code",
   "execution_count": null,
   "metadata": {},
   "outputs": [],
   "source": [
    "import re\n",
    "\n",
    "string = \"Domicile at death: 125 Connors Street 101 Gardner MA 01440\"\n",
    "\n",
    "# Define the regular expression pattern for state abbreviation\n",
    "state_pattern = r\"\\b[A-Za-z]{2}\\b\"\n",
    "\n",
    "# Find the match of the pattern in the string\n",
    "state_match = re.search(state_pattern, string)\n",
    "\n",
    "if state_match:\n",
    "    state = state_match.group()\n",
    "    print(\"State abbreviation:\", state)\n",
    "else:\n",
    "    print(\"No state abbreviation found.\")"
   ]
  },
  {
   "cell_type": "markdown",
   "metadata": {},
   "source": [
    "Output:"
   ]
  },
  {
   "cell_type": "code",
   "execution_count": null,
   "metadata": {
    "vscode": {
     "languageId": "powershell"
    }
   },
   "outputs": [],
   "source": [
    "State abbreviation: MA"
   ]
  },
  {
   "cell_type": "markdown",
   "metadata": {},
   "source": [
    "In this code, we define the regular expression pattern state_pattern as \\b[A-Za-z]{2}\\b. This pattern matches exactly two alphabetical characters, representing the state abbreviation.\n",
    "\n",
    "We use the re.search() function to find the match of the pattern within the string.\n",
    "\n",
    "If a match is found for the state abbreviation pattern, we extract the state abbreviation using state_match.group().\n",
    "\n",
    "Finally, we print the extracted state abbreviation. If no match is found for the pattern, we print a corresponding message.\n",
    "\n",
    "Please note that the regular expression pattern provided here assumes that the state abbreviation consists of exactly two alphabetical characters. If your input has different formats or requirements, you may need to modify the pattern accordingly."
   ]
  },
  {
   "cell_type": "markdown",
   "metadata": {},
   "source": [
    "-----\n",
    "\n",
    "To extract the city and zip code from the given string using regular expressions. Here's an example of how you can modify the code to extract the city and zip code:"
   ]
  },
  {
   "cell_type": "code",
   "execution_count": null,
   "metadata": {},
   "outputs": [],
   "source": [
    "import re\n",
    "\n",
    "string = \"Domicile at death: 125 Connors Street 101 Gardner MA 01440\"\n",
    "\n",
    "# Define the regular expression patterns for city and zip code\n",
    "city_pattern = r\"\\b[A-Za-z\\s]+\\b\"\n",
    "zip_pattern = r\"\\b\\d{5}\\b\"\n",
    "\n",
    "# Find the matches of the patterns in the string\n",
    "city_match = re.search(city_pattern, string)\n",
    "zip_match = re.search(zip_pattern, string)\n",
    "\n",
    "if city_match:\n",
    "    city = city_match.group()\n",
    "    print(\"City:\", city)\n",
    "else:\n",
    "    print(\"No city found.\")\n",
    "\n",
    "if zip_match:\n",
    "    zip_code = zip_match.group()\n",
    "    print(\"Zip code:\", zip_code)\n",
    "else:\n",
    "    print(\"No zip code found.\")"
   ]
  },
  {
   "cell_type": "markdown",
   "metadata": {},
   "source": [
    "Output:\n"
   ]
  },
  {
   "cell_type": "code",
   "execution_count": null,
   "metadata": {
    "vscode": {
     "languageId": "powershell"
    }
   },
   "outputs": [],
   "source": [
    "City: Gardner\n",
    "Zip code: 01440"
   ]
  },
  {
   "cell_type": "markdown",
   "metadata": {},
   "source": [
    "In this code, we define two regular expression patterns: city_pattern and zip_pattern.\n",
    "\n",
    "* city_pattern `(\\b[A-Za-z\\s]+\\b)` matches one or more alphabetical characters or whitespace characters, representing the city name.\n",
    "* zip_pattern `(\\b\\d{5}\\b)` matches exactly five digits, representing the zip code.\n",
    "We use the re.search() function to find the matches of the patterns within the string.\n",
    "\n",
    "If a match is found for the city pattern, we extract the city name using city_match.group().\n",
    "\n",
    "If a match is found for the zip code pattern, we extract the zip code using zip_match.group().\n",
    "\n",
    "Finally, we print the extracted city and zip code. If no match is found for either pattern, we print a corresponding message.\n",
    "\n",
    "Note that the regular expression patterns provided here are basic patterns that can handle common city and zip code formats. Depending on your specific requirements, you may need to modify the patterns to accommodate different variations of city names and zip codes."
   ]
  },
  {
   "cell_type": "markdown",
   "metadata": {},
   "source": [
    "-------\n",
    "\n",
    "To extract the first name, middle name, last name, gender, and suffix from the given string 'Name: Glenn c. Bishop, III', you can use regular expressions to match the different parts of the name. Here's an example:"
   ]
  }
 ],
 "metadata": {
  "kernelspec": {
   "display_name": "Python 3",
   "language": "python",
   "name": "python3"
  },
  "language_info": {
   "name": "python",
   "version": "3.12.0"
  }
 },
 "nbformat": 4,
 "nbformat_minor": 2
}
